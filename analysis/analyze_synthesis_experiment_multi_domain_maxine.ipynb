{
 "cells": [
  {
   "cell_type": "code",
   "execution_count": null,
   "metadata": {},
   "outputs": [],
   "source": [
    "import sys\n",
    "\n",
    "sys.path.append(\"../\")"
   ]
  },
  {
   "cell_type": "code",
   "execution_count": null,
   "metadata": {},
   "outputs": [],
   "source": [
    "%load_ext autoreload\n",
    "%autoreload 2"
   ]
  },
  {
   "cell_type": "code",
   "execution_count": null,
   "metadata": {},
   "outputs": [],
   "source": [
    "import os\n",
    "\n",
    "import pandas as pd\n",
    "import seaborn as sns\n",
    "from matplotlib import pyplot as plt\n",
    "import numpy as np\n",
    "\n",
    "# import data.drawings.make_tasks as drawing_tasks\n",
    "from src.analysis_utilities import SynthesisExperimentAnalyzer\n",
    "from src.config_builder import ExperimentType"
   ]
  },
  {
   "cell_type": "code",
   "execution_count": null,
   "metadata": {},
   "outputs": [],
   "source": [
    "sns.set_theme(style = \"whitegrid\", font_scale=1.25, rc={'figure.figsize':(12, 8)})"
   ]
  },
  {
   "cell_type": "code",
   "execution_count": null,
   "metadata": {},
   "outputs": [],
   "source": [
    "%config InlineBackend.figure_format = 'retina'"
   ]
  },
  {
   "cell_type": "code",
   "execution_count": null,
   "metadata": {},
   "outputs": [],
   "source": [
    "#for random vs cosine similar\n",
    "# EXPERIMENT_NAME = \"compare_lilo_synthetic\"\n",
    "\n",
    "#for human vs synthetic\n",
    "EXPERIMENT_NAME = \"runs_multi\"\n",
    "\n",
    "COMPUTE_LIKELIHOODS = True\n",
    "\n",
    "FIGURES_DIR = os.path.join(\"figures\", EXPERIMENT_NAME)\n",
    "os.makedirs(FIGURES_DIR, exist_ok=True)"
   ]
  },
  {
   "cell_type": "code",
   "execution_count": null,
   "metadata": {},
   "outputs": [],
   "source": [
    "# if random vs cos similar, choose cos_similar and romdon\n",
    "# if human vs synthesis, choose everything else\n",
    "\n",
    "analyzer = SynthesisExperimentAnalyzer(\n",
    "    experiment_name=EXPERIMENT_NAME,\n",
    "    experiment_types=[\n",
    "        \"baseline_dreamcoder\", \n",
    "        \"gpt_solver\", \n",
    "        \"gpt_solver_search\", \n",
    "        \"gpt_solver_stitch_namer_search\"\n",
    "        # \"cos_similar\",\n",
    "        # \"random\",\n",
    "    ],\n",
    "    allow_incomplete_results=True,\n",
    "    compute_likelihoods=COMPUTE_LIKELIHOODS,\n",
    "    batch_size = 96,\n",
    "    seeds = [111, 222, 333],\n",
    ")"
   ]
  },
  {
   "cell_type": "code",
   "execution_count": null,
   "metadata": {},
   "outputs": [],
   "source": [
    "df_results = analyzer.get_synthesis_summary()\n",
    "df_results = analyzer.format_dataframe_camera(df_results)\n",
    "df_results"
   ]
  },
  {
   "cell_type": "code",
   "execution_count": null,
   "metadata": {},
   "outputs": [],
   "source": [
    "# get get results for human and synthetic data\n",
    "df_results = df_results[df_results['Split'] == 'test']\n",
    "\n",
    "df_results['language'] = df_results['domain'].apply(lambda x: \"human\" if \"human\" in x else \"synthetic\")\n",
    "df_results['domain'] = df_results['domain'].apply(lambda x: x.replace(\"(human)\", \"\").strip())\n",
    "\n",
    "\n",
    "df_results"
   ]
  },
  {
   "cell_type": "code",
   "execution_count": null,
   "metadata": {},
   "outputs": [],
   "source": [
    "# plot random vs cos similar\n",
    "analyzer.EXPERIMENT_TYPES_PALETTE['Random'] =  '#e56b6f'  # replace 'color_for_synthetic' with actual color\n",
    "analyzer.EXPERIMENT_TYPES_PALETTE['Cosine Similarity'] = '#0047AB'  # replace 'color_for_synthetic' with actual color\n",
    "with sns.plotting_context(\"poster\", font_scale=1):\n",
    "    g = sns.relplot(\n",
    "        data=df_results,\n",
    "        kind=\"line\",\n",
    "        col=\"domain\",\n",
    "        x=\"Iteration\",\n",
    "        y=analyzer.COL_NAMES_CAMERA[\"percent_solved\"],\n",
    "        hue = \"Model\",\n",
    "        style=\"Split\",\n",
    "        markers=[\".\", \"*\"],\n",
    "        markersize=20,\n",
    "        col_order = [d for d in list(analyzer.DOMAIN_NAMES_CAMERA.values()) if d in list(df_results[\"domain\"])],\n",
    "        facet_kws={'sharex': False, 'sharey': True, 'margin_titles': True},\n",
    "        palette=analyzer.EXPERIMENT_TYPES_PALETTE,\n",
    "        legend=True,\n",
    "    )\n",
    "    for subplot in g.axes[0]:\n",
    "        subplot.set_title(subplot.title.get_text().split(\" = \")[-1])\n",
    "        \n",
    "    g.axes[0][0].set_xticks(np.arange(0, 16, 3))\n",
    "    g.axes[0][1].set_xticks(np.arange(0, 10, 3))\n",
    "    g.axes[0][2].set_xticks(np.arange(0, 10, 3))\n",
    "        \n",
    "    # sns.move_legend(g, \"best\")\n",
    "    # legend_labels = ['Random', 'Cosine Similarity']\n",
    "    # legend_colors = ['#40E0D0', '#FF6347']  # The colors you've chosen for 'synthetic' and 'human'\n",
    "    # legend_patches = [matplotlib.patches.Patch(color=c, label=l) for c, l in zip(legend_colors, legend_labels)]\n",
    "    # plt.legend(handles=legend_patches, title='Sampling Method', loc='best')\n",
    "    sns.move_legend(g, loc=\"lower center\", ncol=3, bbox_to_anchor=(0.5, -0.1))\n",
    "\n",
    "    plt.savefig(os.path.join(FIGURES_DIR, \"main_results.pdf\"), dpi=300, bbox_inches=\"tight\")"
   ]
  },
  {
   "cell_type": "code",
   "execution_count": null,
   "metadata": {},
   "outputs": [],
   "source": [
    "# plot human vs synthetic language \n",
    "import matplotlib\n",
    "analyzer.EXPERIMENT_TYPES_PALETTE['synthetic'] =  '#40E0D0'  \n",
    "analyzer.EXPERIMENT_TYPES_PALETTE['human'] = '#FF6347'  \n",
    "with sns.plotting_context(\"poster\", font_scale=1):\n",
    "    g = sns.relplot(\n",
    "        data=df_results,\n",
    "        kind=\"line\",\n",
    "        row=\"domain\",\n",
    "        col=analyzer.COL_NAMES_CAMERA[\"experiment_type\"],\n",
    "        x=\"Iteration\",\n",
    "        y=analyzer.COL_NAMES_CAMERA[\"percent_solved\"],\n",
    "        hue = \"language\",\n",
    "        style=\"Split\",\n",
    "        markers=[\".\", \"*\"],\n",
    "        markersize=20,\n",
    "        row_order = [d for d in list(analyzer.DOMAIN_NAMES_CAMERA.values()) if d in list(df_results[\"domain\"])],\n",
    "        facet_kws={'sharex': False, 'sharey': True, 'margin_titles': True},\n",
    "        palette=analyzer.EXPERIMENT_TYPES_PALETTE,\n",
    "        legend=True,\n",
    "    )\n",
    "    for subplot in g.axes[0]:\n",
    "        subplot.set_title(subplot.title.get_text().split(\" = \")[-1])\n",
    "        \n",
    "    for ax in g.axes[0]:\n",
    "        ax.set_xticks(np.arange(0, 16, 3))\n",
    "    for ax in g.axes[1]:\n",
    "        ax.set_xticks(np.arange(0, 10, 3))\n",
    "    for ax in g.axes[2]:\n",
    "        ax.set_xticks(np.arange(0, 10, 3))\n",
    "        \n",
    "    sns.move_legend(g, loc=\"lower center\", ncol=3, bbox_to_anchor=(0.5, -0.1))\n",
    "    # legend_labels = ['synthetic', 'human']\n",
    "    # legend_colors = ['#40E0D0', '#FF6347']  \n",
    "    # legend_patches = [matplotlib.patches.Patch(color=c, label=l) for c, l in zip(legend_colors, legend_labels)]\n",
    "    # plt.legend(handles=legend_patches, title='language', loc='best')\n",
    "\n",
    "    plt.savefig(os.path.join(FIGURES_DIR, \"main_results.pdf\"), dpi=300, bbox_inches=\"tight\")"
   ]
  }
 ],
 "metadata": {
  "kernelspec": {
   "display_name": "lilo",
   "language": "python",
   "name": "python3"
  },
  "language_info": {
   "codemirror_mode": {
    "name": "ipython",
    "version": 3
   },
   "file_extension": ".py",
   "mimetype": "text/x-python",
   "name": "python",
   "nbconvert_exporter": "python",
   "pygments_lexer": "ipython3",
   "version": "3.7.12"
  },
  "orig_nbformat": 4
 },
 "nbformat": 4,
 "nbformat_minor": 2
}
