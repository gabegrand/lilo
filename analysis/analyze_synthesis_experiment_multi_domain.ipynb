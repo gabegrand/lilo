{
 "cells": [
  {
   "cell_type": "code",
   "execution_count": null,
   "id": "127e5739-ab6f-4366-8cb0-9ed7831b323a",
   "metadata": {
    "tags": []
   },
   "outputs": [],
   "source": [
    "import sys\n",
    "\n",
    "sys.path.append(\"../\")"
   ]
  },
  {
   "cell_type": "code",
   "execution_count": null,
   "id": "6d05dfe6-bcda-49a6-8dfe-0bbb8aabc776",
   "metadata": {
    "tags": []
   },
   "outputs": [],
   "source": [
    "%load_ext autoreload\n",
    "%autoreload 2"
   ]
  },
  {
   "cell_type": "code",
   "execution_count": null,
   "id": "761c44dd-cc16-472d-ab17-6a4da905ee31",
   "metadata": {
    "tags": []
   },
   "outputs": [],
   "source": [
    "import os\n",
    "\n",
    "import pandas as pd\n",
    "import seaborn as sns\n",
    "from matplotlib import pyplot as plt\n",
    "import numpy as np\n",
    "\n",
    "# import data.drawings.make_tasks as drawing_tasks\n",
    "from src.analysis_utilities import SynthesisExperimentAnalyzer\n",
    "from src.config_builder import ExperimentType"
   ]
  },
  {
   "cell_type": "code",
   "execution_count": null,
   "id": "733f0af1-ba20-42ac-b20d-37b5a57fb174",
   "metadata": {
    "tags": []
   },
   "outputs": [],
   "source": [
    "sns.set_theme(style=\"whitegrid\", font_scale=1.25, rc={'figure.figsize':(12, 8)})"
   ]
  },
  {
   "cell_type": "code",
   "execution_count": null,
   "id": "3b4af981-5d9c-45f0-90f7-f7b271d09d6d",
   "metadata": {
    "tags": []
   },
   "outputs": [],
   "source": [
    "%config InlineBackend.figure_format = 'retina'"
   ]
  },
  {
   "cell_type": "code",
   "execution_count": null,
   "id": "cc3d9aab-5299-4d8c-b85c-36c114e04dab",
   "metadata": {
    "tags": []
   },
   "outputs": [],
   "source": [
    "EXPERIMENT_DIR = \"lilo_arxiv_v1\"\n",
    "EXPERIMENT_NAME = \"runs_multi\"\n",
    "\n",
    "COMPUTE_LIKELIHOODS = True\n",
    "\n",
    "FIGURES_DIR = os.path.join(\"figures\", EXPERIMENT_NAME)\n",
    "os.makedirs(FIGURES_DIR, exist_ok=True)"
   ]
  },
  {
   "cell_type": "code",
   "execution_count": null,
   "id": "96562e12-5032-4bcf-85c4-aa332f3e75d3",
   "metadata": {
    "tags": []
   },
   "outputs": [],
   "source": [
    "analyzer = SynthesisExperimentAnalyzer(\n",
    "    experiment_dir=EXPERIMENT_DIR,\n",
    "    experiment_name=EXPERIMENT_NAME,\n",
    "    experiment_types=[\n",
    "        \"baseline_dreamcoder\", \n",
    "        \"gpt_solver\", \n",
    "        \"gpt_solver_search\", \n",
    "        \"gpt_solver_stitch\", \n",
    "        \"gpt_solver_stitch_namer\", \n",
    "        \"gpt_solver_stitch_namer_hybrid_dsl\", \n",
    "        \"gpt_solver_stitch_namer_search\"\n",
    "    ],\n",
    "    allow_incomplete_results=True,\n",
    "    compute_likelihoods=COMPUTE_LIKELIHOODS,\n",
    "    batch_size = 96,\n",
    "    seeds = [111, 222, 333],\n",
    ")"
   ]
  },
  {
   "cell_type": "markdown",
   "id": "4f6261db-0973-4569-8274-c897b830a1e0",
   "metadata": {
    "tags": []
   },
   "source": [
    "# Tasks solved vs. LAPS iteration"
   ]
  },
  {
   "cell_type": "code",
   "execution_count": null,
   "id": "95d26cd9-a05e-4197-9395-e5c64a515755",
   "metadata": {
    "tags": []
   },
   "outputs": [],
   "source": [
    "df_results = analyzer.get_synthesis_summary()\n",
    "df_results = analyzer.format_dataframe_camera(df_results)"
   ]
  },
  {
   "cell_type": "code",
   "execution_count": null,
   "id": "f3837ba3-3020-4aa1-8ecd-16626baa03c1",
   "metadata": {
    "tags": []
   },
   "outputs": [],
   "source": [
    "df_results"
   ]
  },
  {
   "cell_type": "code",
   "execution_count": null,
   "id": "dfbc65c1-c677-4d12-ba56-5173b774456b",
   "metadata": {
    "tags": []
   },
   "outputs": [],
   "source": [
    "with sns.plotting_context(\"poster\", font_scale=1):\n",
    "    g = sns.relplot(\n",
    "        data=df_results,\n",
    "        kind=\"line\",\n",
    "        row=\"domain\",\n",
    "        col=analyzer.COL_NAMES_CAMERA[\"experiment_type\"],\n",
    "        x=\"iteration\",\n",
    "        y=analyzer.COL_NAMES_CAMERA[\"percent_solved\"],\n",
    "        hue=analyzer.COL_NAMES_CAMERA[\"experiment_type\"],\n",
    "        style=\"split\",\n",
    "        markers=[\".\", \"*\"],\n",
    "        markersize=20,\n",
    "        # errorbar=\"se\",\n",
    "        # col_order=[\"train\", \"test\"],\n",
    "        row_order = [d for d in analyzer.DOMAIN_NAMES_CAMERA.values() if d in df_results.domain.unique()],\n",
    "        facet_kws={'sharex': False, 'sharey': True, 'margin_titles': True},\n",
    "        palette=analyzer.EXPERIMENT_TYPES_PALETTE,\n",
    "        legend=False,\n",
    "    )\n",
    "    for subplot in g.axes[0]:\n",
    "        subplot.set_title(subplot.title.get_text().split(\" = \")[-1])\n",
    "        \n",
    "    for ax in g.axes[0]:\n",
    "        ax.set_xticks(np.arange(0, 16, 3))\n",
    "    for ax in g.axes[1]:\n",
    "        ax.set_xticks(np.arange(0, 10, 3))\n",
    "    for ax in g.axes[2]:\n",
    "        ax.set_xticks(np.arange(0, 10, 3))\n",
    "        \n",
    "    # sns.move_legend(g, \"lower center\")\n",
    "        \n",
    "    # plt.savefig(os.path.join(FIGURES_DIR, \"main_results.pdf\"), dpi=300, bbox_inches=\"tight\")"
   ]
  },
  {
   "cell_type": "markdown",
   "id": "896a486c-cfdd-4344-ae33-3d9d6975b153",
   "metadata": {
    "tags": []
   },
   "source": [
    "# Main results table"
   ]
  },
  {
   "cell_type": "code",
   "execution_count": null,
   "id": "db4a30ef-b6e7-46b0-86c9-21037af59501",
   "metadata": {
    "tags": []
   },
   "outputs": [],
   "source": [
    "df_results_test = df_results.query(\"split == 'test'\")\n",
    "grouped = df_results_test.groupby([\n",
    "    \"domain\",\n",
    "    analyzer.COL_NAMES_CAMERA[\"experiment_type\"],\n",
    "    \"seed\",\n",
    "], as_index=False)\n",
    "\n",
    "def _get_final_iteration(group):\n",
    "    final_iteration = group[\"iteration\"].max().item()\n",
    "    return group[group[\"iteration\"] == final_iteration]\n",
    "\n",
    "df_results_test = grouped.apply(_get_final_iteration).reset_index(drop=True)\n",
    "df_results_test"
   ]
  },
  {
   "cell_type": "code",
   "execution_count": null,
   "id": "655b9908-038c-4086-a084-5df62555c6fd",
   "metadata": {
    "tags": []
   },
   "outputs": [],
   "source": [
    "df_metrics_test = df_results_test.groupby([\n",
    "    \"domain\",\n",
    "    analyzer.COL_NAMES_CAMERA[\"experiment_type\"],\n",
    "]) \\\n",
    "[[\n",
    "    analyzer.COL_NAMES_CAMERA[\"percent_solved\"]\n",
    "]] \\\n",
    ".agg([\"mean\", \"max\", \"std\"])\n",
    "\n",
    "df_metrics_test = df_metrics_test.reindex(list(analyzer.DOMAIN_NAMES_CAMERA.values()), level=0)\n",
    "df_metrics_test"
   ]
  },
  {
   "cell_type": "code",
   "execution_count": null,
   "id": "fdb651f7-ea83-44ce-b9bc-477da0191fe0",
   "metadata": {
    "tags": []
   },
   "outputs": [],
   "source": [
    "# Reorder column levels\n",
    "df_metrics_test_final = df_metrics_test.reset_index().pivot(index=\"Model\", columns=\"domain\").reorder_levels(order=[0, 2, 1], axis=\"columns\")\n",
    "\n",
    "# Reorder columns\n",
    "multiindex = df_metrics_test_final.columns\n",
    "multiindex = multiindex.reindex(list(analyzer.DOMAIN_NAMES_CAMERA.values()), level=1)[0]\n",
    "multiindex = multiindex.reindex([\"max\", \"mean\", \"std\"], level=2)[0]\n",
    "\n",
    "df_metrics_test_final = df_metrics_test_final.reindex(columns=multiindex)\n",
    "df_metrics_test_final.columns.names = [None, None, None]\n",
    "\n",
    "# Reorder rows\n",
    "experiment_types = [x for x in analyzer.EXPERIMENT_TYPES_CAMERA.values() if x in df_metrics_test_final.index]\n",
    "df_metrics_test_final = df_metrics_test_final.reindex(experiment_types)\n",
    "\n",
    "# Remove 'Model'\n",
    "df_metrics_test_final.index.name = None\n",
    "\n",
    "# Round numbers\n",
    "df_metrics_test_final = df_metrics_test_final.round(2)\n",
    "\n",
    "# Output to LaTeX\n",
    "df_metrics_test_final.to_latex(\"main_results_table.tex\")\n",
    "\n",
    "df_metrics_test_final"
   ]
  },
  {
   "cell_type": "markdown",
   "id": "e2c96def-c4b3-4050-97c3-0e1d90b5f64a",
   "metadata": {
    "tags": []
   },
   "source": [
    "# Runtime metrics"
   ]
  },
  {
   "cell_type": "code",
   "execution_count": null,
   "id": "633976c1-a48f-437b-b70c-e245b50209b3",
   "metadata": {
    "tags": []
   },
   "outputs": [],
   "source": [
    "df_runtime = analyzer.get_runtime_metrics()\n",
    "df_runtime.groupby([\"domain\", \"experiment_type\", \"model_type\", \"model_fn\", \"split\"]).time_elapsed.agg(\"mean\")"
   ]
  },
  {
   "cell_type": "code",
   "execution_count": null,
   "id": "78135e51-de82-448f-a977-4f0088b7b41b",
   "metadata": {
    "tags": []
   },
   "outputs": [],
   "source": [
    "df_infer_programs = df_runtime.query(\"model_fn == 'infer_programs_for_tasks'\").query(\"model_type != 'grammar'\")\n",
    "\n",
    "# Remove outliers\n",
    "df_infer_programs = df_infer_programs.query(\"time_elapsed > 300.0\")\n",
    "\n",
    "\n",
    "df_infer_programs"
   ]
  },
  {
   "cell_type": "code",
   "execution_count": null,
   "id": "fe990d71-7612-433e-aa0b-2b29405b0402",
   "metadata": {
    "tags": []
   },
   "outputs": [],
   "source": [
    "analyzer.format_dataframe_camera(df_infer_programs)"
   ]
  },
  {
   "cell_type": "markdown",
   "id": "c3d8ce2e-08ec-4639-a720-6e3e6b1ba407",
   "metadata": {
    "tags": []
   },
   "source": [
    "## Wall clock time figure"
   ]
  },
  {
   "cell_type": "code",
   "execution_count": null,
   "id": "e146fcd0-4b89-40ce-9ba8-e7fa2a25bd69",
   "metadata": {
    "tags": []
   },
   "outputs": [],
   "source": [
    "import matplotlib.pyplot as plt\n",
    "import seaborn as sns\n",
    "\n",
    "# First plot\n",
    "fig, axes = plt.subplots(nrows=2, ncols=3, sharex=False)  # Create subplots with shared x-axis\n",
    "plt.subplots_adjust(hspace=0.)  # Adjust vertical spacing between subplots\n",
    "\n",
    "for i, domain in enumerate(analyzer.DOMAIN_NAMES_CAMERA.keys()):\n",
    "\n",
    "    # Plot 1\n",
    "    ax1 = sns.barplot(\n",
    "        data=analyzer.format_dataframe_camera(df_infer_programs.query(\"model_type == 'llm_solver'\").query(f\"domain == '{domain}'\")), \n",
    "        ax=axes[0][i],  # Specify the first subplot\n",
    "        y=\"split\",\n",
    "        x=\"time_elapsed\", \n",
    "        hue=analyzer.COL_NAMES_CAMERA[\"experiment_type\"],\n",
    "        palette=analyzer.EXPERIMENT_TYPES_PALETTE,\n",
    "    )\n",
    "    ax1.set(xlabel=None)\n",
    "    ax1.set_xticks(ticks=ax1.get_xticks(), labels=[])\n",
    "    \n",
    "    ax1.legend_.remove()\n",
    "    \n",
    "    ax1.set_title(analyzer.DOMAIN_NAMES_CAMERA[domain])\n",
    "\n",
    "    # Plot 2\n",
    "    ax2 = sns.barplot(\n",
    "        data=analyzer.format_dataframe_camera(df_infer_programs.query(\"model_type == 'amortized_synthesis'\").query(f\"domain == '{domain}'\")), \n",
    "        ax=axes[1][i],  # Specify the second subplot\n",
    "        y=\"split\",\n",
    "        x=\"time_elapsed\", \n",
    "        hue=analyzer.COL_NAMES_CAMERA[\"experiment_type\"],\n",
    "        palette=analyzer.EXPERIMENT_TYPES_PALETTE,\n",
    "    )\n",
    "    \n",
    "    ax2.set(xlabel=\"Wall clock time (sec.)\", xlim=ax1.get_xlim())\n",
    "    \n",
    "    ax2.legend_.remove()\n",
    "    \n",
    "    \n",
    "    \n",
    "    # Remove y-axis labels and ticks for plots except the first row\n",
    "    if i==0:\n",
    "        ax1.set_ylabel(\"LLM Search\")\n",
    "        ax2.set_ylabel(\"Enumerative Search\")\n",
    "    else:\n",
    "        ax1.set(ylabel=None)\n",
    "        ax2.set(ylabel=None)\n",
    "        ax1.set_yticks([])\n",
    "        ax2.set_yticks([])\n",
    "\n",
    "# Create a legend outside the figure\n",
    "legend_labels = list(analyzer.EXPERIMENT_TYPES_CAMERA.values())[1:]\n",
    "legend_handles = [plt.Line2D([], [], color=color, marker='o', linestyle='') for color in list(analyzer.EXPERIMENT_TYPES_PALETTE.values())[1:]]\n",
    "legend = ax1.legend(legend_handles, legend_labels, title=\"Model\", bbox_to_anchor=(1.05, 1), loc='upper left')\n",
    "\n",
    "# Add the legend to the figure\n",
    "fig.add_artist(legend)\n",
    "\n",
    "# Save figure\n",
    "plt.savefig(os.path.join(FIGURES_DIR, \"wall_clock_time.pdf\"), dpi=300, bbox_inches=\"tight\")\n",
    "\n",
    "# Show the plots\n",
    "plt.show()"
   ]
  },
  {
   "cell_type": "code",
   "execution_count": null,
   "id": "a4c1ba48-bab8-456f-b277-3bbc0102d10d",
   "metadata": {
    "tags": []
   },
   "outputs": [],
   "source": [
    "sns.catplot(\n",
    "    data=analyzer.format_dataframe_camera(df_infer_programs), \n",
    "    kind=\"bar\",\n",
    "    col=\"domain\",\n",
    "    row=\"split\",\n",
    "    y=\"model_type\",\n",
    "    x=\"time_elapsed\", \n",
    "    hue=analyzer.COL_NAMES_CAMERA[\"experiment_type\"],\n",
    "    palette=analyzer.EXPERIMENT_TYPES_PALETTE,\n",
    "    margin_titles=True,\n",
    "    sharex=True,\n",
    "    # facet_kws=dict(sharex=True,)\n",
    "    \n",
    ")"
   ]
  },
  {
   "cell_type": "code",
   "execution_count": null,
   "id": "c5f04d98-45f0-41b5-bf86-fa52eddedc59",
   "metadata": {
    "tags": []
   },
   "outputs": [],
   "source": [
    "sns.catplot(\n",
    "    data=analyzer.format_dataframe_camera(df_infer_programs.query(\"split == 'train'\")), \n",
    "    kind=\"strip\",\n",
    "    col=\"domain\",\n",
    "    row=\"model_type\",\n",
    "    y=analyzer.COL_NAMES_CAMERA[\"experiment_type\"],\n",
    "    x=\"time_elapsed\", \n",
    "    hue=analyzer.COL_NAMES_CAMERA[\"experiment_type\"],\n",
    "    palette=analyzer.EXPERIMENT_TYPES_PALETTE,\n",
    "    margin_titles=True,\n",
    "    sharex=True,\n",
    "    # facet_kws=dict(sharex=True,)\n",
    "    \n",
    ")"
   ]
  },
  {
   "cell_type": "markdown",
   "id": "adeac466-72cb-470a-859d-9848e1fb2c0f",
   "metadata": {},
   "source": [
    "# Number of queries"
   ]
  },
  {
   "cell_type": "code",
   "execution_count": null,
   "id": "8efc9ec4-b919-4049-8135-43f011329517",
   "metadata": {
    "tags": []
   },
   "outputs": [],
   "source": [
    "# Cache these results since they take a long time to load\n",
    "TOKEN_USAGE_PATH = \"token_usage.csv\"\n",
    "\n",
    "if not os.path.exists(TOKEN_USAGE_PATH):\n",
    "    df_token_usage = analyzer.get_gpt_solver_results()\n",
    "    df_token_usage.to_csv(\"token_usage.csv\", index=False)\n",
    "else:\n",
    "    df_token_usage = pd.read_csv(TOKEN_USAGE_PATH)"
   ]
  },
  {
   "cell_type": "code",
   "execution_count": null,
   "id": "da743212-4cff-4466-a11d-df043e40202b",
   "metadata": {
    "tags": []
   },
   "outputs": [],
   "source": [
    "df_token_usage"
   ]
  },
  {
   "cell_type": "code",
   "execution_count": null,
   "id": "d38fc29b-f397-4d3c-909f-6ebc3a527f5e",
   "metadata": {
    "tags": []
   },
   "outputs": [],
   "source": [
    "df_token_usage_by_iteration = df_token_usage.groupby([\n",
    "    \"domain\",\n",
    "    \"experiment_type\",\n",
    "    \"split\",\n",
    "    \"seed\",\n",
    "    \"iteration\"\n",
    "]) \\\n",
    "[[\"prompt_tokens\", \"completion_tokens\", \"total_tokens\"]] \\\n",
    ".sum().reset_index()\n",
    "\n",
    "df_token_usage_by_iteration"
   ]
  },
  {
   "cell_type": "code",
   "execution_count": null,
   "id": "61e45c45-fde0-4a38-8f7b-c43005c9e320",
   "metadata": {
    "tags": []
   },
   "outputs": [],
   "source": [
    "analyzer.format_dataframe_camera(df_token_usage_by_iteration.query(\"split == 'train'\"))"
   ]
  },
  {
   "cell_type": "code",
   "execution_count": null,
   "id": "263afcea-6b7d-4606-91ef-23dfa892a3d6",
   "metadata": {
    "tags": []
   },
   "outputs": [],
   "source": [
    "ax = sns.boxplot(\n",
    "    data=analyzer.format_dataframe_camera(df_token_usage_by_iteration.query(\"split == 'train'\")), \n",
    "    y=\"total_tokens\",\n",
    "    x=\"domain\",\n",
    "    hue=analyzer.COL_NAMES_CAMERA[\"experiment_type\"],\n",
    "    palette=analyzer.EXPERIMENT_TYPES_PALETTE,\n",
    ")\n",
    "ax.set_ylabel(\"GPT tokens used per train iteration\")\n",
    "ax.set_xlabel(\"Domain\")\n",
    "sns.move_legend(ax, \"upper left\", bbox_to_anchor=(1, 1))\n",
    "\n",
    "plt.savefig(os.path.join(FIGURES_DIR, \"token_usage.pdf\"), dpi=300, bbox_inches=\"tight\")"
   ]
  },
  {
   "cell_type": "markdown",
   "id": "9de1caee-53b4-4de4-b3e8-226b4de6c048",
   "metadata": {},
   "source": [
    "# Dollar cost table"
   ]
  },
  {
   "cell_type": "code",
   "execution_count": null,
   "id": "2fea2c7b-2086-400d-9f87-dee3c0800d0e",
   "metadata": {
    "tags": []
   },
   "outputs": [],
   "source": [
    "df_token_usage_stats = df_token_usage.query(\"split == 'train'\").groupby([\n",
    "    \"domain\",\n",
    "    \"experiment_type\",\n",
    "    \"seed\",\n",
    "    \"iteration\"\n",
    "]) \\\n",
    "[[\"total_tokens\"]] \\\n",
    ".sum().reset_index()\n",
    "\n",
    "df_token_usage_stats = df_token_usage_stats.groupby([\n",
    "    \"domain\",\n",
    "    \"experiment_type\",\n",
    "]) \\\n",
    "[[\"total_tokens\"]] \\\n",
    ".agg([\"mean\", \"std\"]).reset_index()\n",
    "\n",
    "df_token_usage_stats[(\"cost\", \"mean\")] = (0.002 / 1000) * df_token_usage_stats[\"total_tokens\"][\"mean\"]\n",
    "df_token_usage_stats[(\"cost\", \"std\")] = (0.002 / 1000) * df_token_usage_stats[\"total_tokens\"][\"std\"]\n",
    "\n",
    "# Drop total tokens\n",
    "df_token_usage_stats = df_token_usage_stats[[\"domain\", \"experiment_type\", \"cost\"]]\n",
    "\n",
    "df_token_usage_stats"
   ]
  },
  {
   "cell_type": "code",
   "execution_count": null,
   "id": "81db19c7-1eb0-4266-8c3f-64037d5fb2e3",
   "metadata": {
    "tags": []
   },
   "outputs": [],
   "source": [
    "# Convert to table\n",
    "df_token_usage_stats_table = analyzer.format_dataframe_camera(df_token_usage_stats)\n",
    "\n",
    "\n",
    "df_token_usage_stats_table = df_token_usage_stats_table.pivot(index=analyzer.COL_NAMES_CAMERA[\"experiment_type\"], columns=\"domain\")\n",
    "\n",
    "df_token_usage_stats_table = df_token_usage_stats_table.reorder_levels(order=[0, 2, 1], axis=\"columns\")\n",
    "\n",
    "multiindex = df_token_usage_stats_table.columns\n",
    "multiindex = multiindex.reindex(list(analyzer.DOMAIN_NAMES_CAMERA.values()), level=1)[0]\n",
    "multiindex = multiindex.reindex([\"mean\", \"std\"], level=2)[0]\n",
    "\n",
    "df_token_usage_stats_table = df_token_usage_stats_table.reindex(columns=multiindex)\n",
    "df_token_usage_stats_table.columns.names = [None, None, None]\n",
    "\n",
    "# Reorder rows\n",
    "experiment_types = [x for x in analyzer.EXPERIMENT_TYPES_CAMERA.values() if x in df_token_usage_stats_table.index]\n",
    "df_token_usage_stats_table = df_token_usage_stats_table.reindex(experiment_types)\n",
    "\n",
    "# Remove 'Model'\n",
    "df_token_usage_stats_table.index.name = None\n",
    "\n",
    "# Round numbers\n",
    "df_token_usage_stats_table = df_token_usage_stats_table.round(2)\n",
    "\n",
    "# Drop 'cost'\n",
    "# df_token_usage_stats_table = df_token_usage_stats_table.droplevel(level=0, axis=1)\n",
    "\n",
    "# Format each entry as a dollar value\n",
    "df_token_usage_stats_table = df_token_usage_stats_table.applymap(lambda x: '${:,.2f}'.format(x) if isinstance(x, (int, float)) else x)\n",
    "\n",
    "\n",
    "# Output to LaTeX\n",
    "df_token_usage_stats_table.to_latex(os.path.join(FIGURES_DIR, \"token_cost_table.tex\"))\n",
    "\n",
    "df_token_usage_stats_table"
   ]
  },
  {
   "cell_type": "code",
   "execution_count": null,
   "id": "bbf3857b-5cfc-473c-9d47-3e1808a810a5",
   "metadata": {
    "tags": []
   },
   "outputs": [],
   "source": [
    "df_search_stats = df_infer_programs \\\n",
    ".query(\"experiment_type == 'baseline_dreamcoder' or experiment_type == 'gpt_solver_stitch_namer_search'\") \\\n",
    ".query(\"split == 'train'\") \\\n",
    ".query(\"model_type == 'amortized_synthesis'\") \\\n",
    "[[\"domain\", \"experiment_type\", \"seed\", \"iteration\", \"time_elapsed\"]]\n",
    "\n",
    "df_search_stats = df_search_stats.groupby([\n",
    "    \"domain\",\n",
    "    \"experiment_type\",\n",
    "]) \\\n",
    "[[\"time_elapsed\"]] \\\n",
    ".agg([\"mean\", \"std\"]).reset_index()\n",
    "\n",
    "df_search_stats[(\"cost\", \"mean\")] = (4.08 / (60*60)) * df_search_stats[\"time_elapsed\"][\"mean\"]\n",
    "df_search_stats[(\"cost\", \"std\")] = (4.08 / (60*60)) * df_search_stats[\"time_elapsed\"][\"std\"]\n",
    "\n",
    "# Drop elapsed time\n",
    "df_search_stats = df_search_stats[[\"domain\", \"experiment_type\", \"cost\"]]\n",
    "\n",
    "\n",
    "df_search_stats"
   ]
  },
  {
   "cell_type": "code",
   "execution_count": null,
   "id": "a3e99da3-9955-4770-b709-4df11c2c54f3",
   "metadata": {
    "tags": []
   },
   "outputs": [],
   "source": [
    "# Convert to table\n",
    "df_search_stats_table = analyzer.format_dataframe_camera(df_search_stats)\n",
    "\n",
    "\n",
    "df_search_stats_table = df_search_stats_table.pivot(index=analyzer.COL_NAMES_CAMERA[\"experiment_type\"], columns=\"domain\")\n",
    "\n",
    "df_search_stats_table = df_search_stats_table.reorder_levels(order=[0, 2, 1], axis=\"columns\")\n",
    "\n",
    "multiindex = df_search_stats_table.columns\n",
    "multiindex = multiindex.reindex(list(analyzer.DOMAIN_NAMES_CAMERA.values()), level=1)[0]\n",
    "multiindex = multiindex.reindex([\"mean\", \"std\"], level=2)[0]\n",
    "\n",
    "df_search_stats_table = df_search_stats_table.reindex(columns=multiindex)\n",
    "df_search_stats_table.columns.names = [None, None, None]\n",
    "\n",
    "# Reorder rows\n",
    "experiment_types = [x for x in analyzer.EXPERIMENT_TYPES_CAMERA.values() if x in df_search_stats_table.index]\n",
    "df_search_stats_table = df_search_stats_table.reindex(experiment_types)\n",
    "\n",
    "# Remove 'Model'\n",
    "df_search_stats_table.index.name = None\n",
    "\n",
    "# Round numbers\n",
    "df_search_stats_table = df_search_stats_table.round(2)\n",
    "\n",
    "# Drop 'cost'\n",
    "# df_search_stats_table = df_search_stats_table.droplevel(level=0, axis=1)\n",
    "\n",
    "# Format each entry as a dollar value\n",
    "df_search_stats_table = df_search_stats_table.applymap(lambda x: '${:,.2f}'.format(x) if isinstance(x, (int, float)) else x)\n",
    "\n",
    "\n",
    "# Output to LaTeX\n",
    "df_search_stats_table.to_latex(os.path.join(FIGURES_DIR, \"search_cost_table.tex\"))\n",
    "\n",
    "df_search_stats_table"
   ]
  },
  {
   "cell_type": "code",
   "execution_count": null,
   "id": "8cc7f6a3-a574-41b9-89f7-81b3c8def45e",
   "metadata": {
    "tags": []
   },
   "outputs": [],
   "source": [
    "df_cost_table = pd.concat([df_token_usage_stats_table, df_search_stats_table], keys=['LLM Search', 'Enumerative Search'])\n",
    "\n",
    "# Output to LaTeX\n",
    "df_cost_table.to_latex(os.path.join(FIGURES_DIR, \"cost_table.tex\"))\n",
    "\n",
    "df_cost_table"
   ]
  },
  {
   "cell_type": "code",
   "execution_count": null,
   "id": "72b60df9-e4f8-47fd-b2a7-5a09a5f8e0bc",
   "metadata": {},
   "outputs": [],
   "source": []
  },
  {
   "cell_type": "code",
   "execution_count": null,
   "id": "4957b193-8291-47ee-bcd5-ba4e2c8f5cda",
   "metadata": {},
   "outputs": [],
   "source": []
  }
 ],
 "metadata": {
  "kernelspec": {
   "display_name": "Python 3 (ipykernel)",
   "language": "python",
   "name": "python3"
  },
  "language_info": {
   "codemirror_mode": {
    "name": "ipython",
    "version": 3
   },
   "file_extension": ".py",
   "mimetype": "text/x-python",
   "name": "python",
   "nbconvert_exporter": "python",
   "pygments_lexer": "ipython3",
   "version": "3.7.12"
  }
 },
 "nbformat": 4,
 "nbformat_minor": 5
}
